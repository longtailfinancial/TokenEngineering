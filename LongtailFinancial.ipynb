{
 "cells": [
  {
   "cell_type": "code",
   "execution_count": 5,
   "metadata": {},
   "outputs": [],
   "source": [
    "import panel as pn\n",
    "pn.extension()\n",
    "import pandas as pd\n",
    "import numpy as np\n",
    "import hvplot.pandas\n",
    "import param, random"
   ]
  },
  {
   "cell_type": "code",
   "execution_count": 6,
   "metadata": {},
   "outputs": [],
   "source": [
    "B = pn.widgets.FloatSlider(name='Beta Distribution Parameter', start=0.0, end=1, step=0.02, value=0.01)\n",
    "N = pn.widgets.FloatSlider(name='Number of Members', start=5, end=100, step=1, value=5)\n",
    "P = pn.widgets.FloatSlider(name='Principle Working Capital (DAI)', start=5000, end=1000000, step=5000, value=5000)\n",
    "D = pn.widgets.FloatSlider(name='Weekly Membership Dividends (Capital %)', start=0, end=5, step=0.05, value=0)\n",
    "F = pn.widgets.FloatSlider(name='Weekly Membership Fee (DAI)', start=0, end=10, step=1, value=0)\n",
    "R = pn.widgets.FloatSlider(name='Weekly Revenue (DAI)', start=0, end=10000, step=500, value=0)\n",
    "E = pn.widgets.FloatSlider(name='Weekly Expenses (DAI)', start=0, end=10000, step=500, value=0)\n",
    "Y = pn.widgets.FloatSlider(name='Years', start=1, end=20, step=1, value=1)\n",
    "\n",
    "def beta_dist(B, N):\n",
    "    xs = range(1,N)\n",
    "    y = [B*(1-B)**t for t in xs]\n",
    "    # Convert to a dataframe and return\n",
    "    distribution = pd.DataFrame([xs,y]).T\n",
    "    distribution.columns = ['Ranking','Ownership']\n",
    "    # Force dist to sum to one\n",
    "    distribution['Ownership'] += (1 - distribution['Ownership'].sum())/len(distribution)\n",
    "    distribution.iloc[-1] += (1 - distribution['Ownership'].sum())\n",
    "    \n",
    "    return distribution\n",
    "\n",
    "def capital_projection(N, P, D, F, R, E, Y):\n",
    "    projections = []\n",
    "    # Weekly projections\n",
    "    for i in range(1,52*Y):\n",
    "        P = (P+R+F*N-E)\n",
    "        P = P - P*D/100\n",
    "        projections.append(P)\n",
    "    return pd.DataFrame(projections, columns=['Working Capital'])\n",
    "\n",
    "@pn.depends(B, N, P, D, F, R, E, Y)\n",
    "def dashboard(B, N, P, D, F, R, E, Y):\n",
    "    distribution = beta_dist(B, N)\n",
    "    distribution['Dividend Percentage'] = distribution['Ownership'] * D/100\n",
    "    capital = capital_projection(N, P, D, F, R, E, Y)\n",
    "    distribution[\"Average Weekly Payout (DAI)\"] = distribution['Dividend Percentage'] * capital['Working Capital'].mean()\n",
    "    distribution[\"Weekly Payouts (DAI)\"] = distribution['Dividend Percentage'] * capital['Working Capital']\n",
    "    return pn.Column(\n",
    "                distribution.hvplot.line(x='Ranking',y='Ownership', title=\"Ownership Distribution\"),\n",
    "                capital.hvplot.line(xlabel='Weeks', title=\"Working Capital\"),\n",
    "                distribution.set_index(\"Ranking\"),\n",
    "            )\n"
   ]
  },
  {
   "cell_type": "code",
   "execution_count": 7,
   "metadata": {},
   "outputs": [
    {
     "data": {},
     "metadata": {},
     "output_type": "display_data"
    },
    {
     "data": {},
     "metadata": {},
     "output_type": "display_data"
    },
    {
     "data": {
      "application/vnd.holoviews_exec.v0+json": "",
      "text/html": [
       "<div id='7298'>\n",
       "\n",
       "\n",
       "\n",
       "\n",
       "\n",
       "  <div class=\"bk-root\" id=\"34116106-dfd2-49c3-8c33-fd1ade70f409\" data-root-id=\"7298\"></div>\n",
       "</div>\n",
       "<script type=\"application/javascript\">(function(root) {\n",
       "  function embed_document(root) {\n",
       "    var docs_json = {\"d6c7c690-ee0e-4b4e-a6a6-f99555646e2a\":{\"roots\":{\"references\":[{\"attributes\":{\"bottom_units\":\"screen\",\"fill_alpha\":0.5,\"fill_color\":\"lightgrey\",\"left_units\":\"screen\",\"level\":\"overlay\",\"line_alpha\":1.0,\"line_color\":\"black\",\"line_dash\":[4,4],\"line_width\":2,\"right_units\":\"screen\",\"top_units\":\"screen\"},\"id\":\"7396\",\"type\":\"BoxAnnotation\"},{\"attributes\":{\"line_alpha\":0.2,\"line_color\":\"#1f77b3\",\"line_width\":2,\"x\":{\"field\":\"Ranking\"},\"y\":{\"field\":\"Ownership\"}},\"id\":\"7348\",\"type\":\"Line\"},{\"attributes\":{\"data\":{\"Ownership\":{\"__ndarray__\":\"SmBQtmoC0D+zlt95ywDQP7Lb38hg/s8/WDbA1jL7zz8=\",\"dtype\":\"float64\",\"order\":\"little\",\"shape\":[4]},\"Ranking\":{\"__ndarray__\":\"AAAAAAAA8D8AAAAAAAAAQAAAAAAAAAhAAAAAAAAAEEA=\",\"dtype\":\"float64\",\"order\":\"little\",\"shape\":[4]}},\"selected\":{\"id\":\"7344\"},\"selection_policy\":{\"id\":\"7361\"}},\"id\":\"7343\",\"type\":\"ColumnDataSource\"},{\"attributes\":{\"end\":10000,\"format\":\"0[.]00\",\"margin\":[5,10,5,10],\"start\":0,\"step\":500,\"title\":\"Weekly Expenses (DAI)\",\"value\":0,\"value_throttled\":0},\"id\":\"7306\",\"type\":\"Slider\"},{\"attributes\":{},\"id\":\"7352\",\"type\":\"BasicTickFormatter\"},{\"attributes\":{\"line_alpha\":0.1,\"line_color\":\"#1f77b3\",\"line_width\":2,\"x\":{\"field\":\"Ranking\"},\"y\":{\"field\":\"Ownership\"}},\"id\":\"7347\",\"type\":\"Line\"},{\"attributes\":{\"data_source\":{\"id\":\"7343\"},\"glyph\":{\"id\":\"7346\"},\"hover_glyph\":null,\"muted_glyph\":{\"id\":\"7348\"},\"nonselection_glyph\":{\"id\":\"7347\"},\"selection_glyph\":null,\"view\":{\"id\":\"7350\"}},\"id\":\"7349\",\"type\":\"GlyphRenderer\"},{\"attributes\":{\"end\":1,\"format\":\"0[.]00\",\"margin\":[5,10,5,10],\"start\":0.0,\"step\":0.02,\"title\":\"Beta Distribution Parameter\",\"value\":0.01,\"value_throttled\":0.01},\"id\":\"7301\",\"type\":\"Slider\"},{\"attributes\":{\"line_color\":\"#1f77b3\",\"line_width\":2,\"x\":{\"field\":\"Ranking\"},\"y\":{\"field\":\"Ownership\"}},\"id\":\"7346\",\"type\":\"Line\"},{\"attributes\":{},\"id\":\"7344\",\"type\":\"Selection\"},{\"attributes\":{\"client_comm_id\":\"59037065c3954116a28275b7ea7d971c\",\"comm_id\":\"1fd2ab0a0801495a898dcf9e402d1ee6\",\"plot_id\":\"7298\"},\"id\":\"7481\",\"type\":\"panel.models.comm_manager.CommManager\"},{\"attributes\":{},\"id\":\"7334\",\"type\":\"ResetTool\"},{\"attributes\":{\"overlay\":{\"id\":\"7335\"}},\"id\":\"7333\",\"type\":\"BoxZoomTool\"},{\"attributes\":{\"source\":{\"id\":\"7343\"}},\"id\":\"7350\",\"type\":\"CDSView\"},{\"attributes\":{\"active_drag\":\"auto\",\"active_inspect\":\"auto\",\"active_multi\":null,\"active_scroll\":\"auto\",\"active_tap\":\"auto\",\"tools\":[{\"id\":\"7312\"},{\"id\":\"7330\"},{\"id\":\"7331\"},{\"id\":\"7332\"},{\"id\":\"7333\"},{\"id\":\"7334\"}]},\"id\":\"7336\",\"type\":\"Toolbar\"},{\"attributes\":{\"children\":[{\"id\":\"7309\"}],\"margin\":[0,0,0,0],\"name\":\"Row13307\"},\"id\":\"7308\",\"type\":\"Row\"},{\"attributes\":{},\"id\":\"7405\",\"type\":\"Selection\"},{\"attributes\":{\"end\":5,\"format\":\"0[.]00\",\"margin\":[5,10,5,10],\"start\":0,\"step\":0.05,\"title\":\"Weekly Membership Dividends (Capital %)\",\"value\":0,\"value_throttled\":0},\"id\":\"7303\",\"type\":\"Slider\"},{\"attributes\":{},\"id\":\"7413\",\"type\":\"BasicTickFormatter\"},{\"attributes\":{\"end\":10,\"format\":\"0[.]00\",\"margin\":[5,10,5,10],\"start\":0,\"title\":\"Weekly Membership Fee (DAI)\",\"value\":0,\"value_throttled\":0},\"id\":\"7304\",\"type\":\"Slider\"},{\"attributes\":{},\"id\":\"7331\",\"type\":\"PanTool\"},{\"attributes\":{\"below\":[{\"id\":\"7322\"}],\"center\":[{\"id\":\"7325\"},{\"id\":\"7329\"}],\"left\":[{\"id\":\"7326\"}],\"margin\":[5,5,5,5],\"min_border_bottom\":10,\"min_border_left\":10,\"min_border_right\":10,\"min_border_top\":10,\"plot_height\":300,\"plot_width\":700,\"renderers\":[{\"id\":\"7349\"}],\"sizing_mode\":\"fixed\",\"title\":{\"id\":\"7314\"},\"toolbar\":{\"id\":\"7336\"},\"x_range\":{\"id\":\"7310\"},\"x_scale\":{\"id\":\"7318\"},\"y_range\":{\"id\":\"7311\"},\"y_scale\":{\"id\":\"7320\"}},\"id\":\"7313\",\"subtype\":\"Figure\",\"type\":\"Plot\"},{\"attributes\":{},\"id\":\"7354\",\"type\":\"BasicTickFormatter\"},{\"attributes\":{},\"id\":\"7318\",\"type\":\"LinearScale\"},{\"attributes\":{\"end\":1000000,\"format\":\"0[.]00\",\"margin\":[5,10,5,10],\"start\":5000,\"step\":5000,\"title\":\"Principle Working Capital (DAI)\",\"value\":5000,\"value_throttled\":5000},\"id\":\"7302\",\"type\":\"Slider\"},{\"attributes\":{\"end\":50.0,\"reset_end\":50.0,\"reset_start\":0.0,\"tags\":[[[\"index\",\"index\",null]]]},\"id\":\"7371\",\"type\":\"Range1d\"},{\"attributes\":{},\"id\":\"7323\",\"type\":\"BasicTicker\"},{\"attributes\":{},\"id\":\"7415\",\"type\":\"BasicTickFormatter\"},{\"attributes\":{\"callback\":null,\"renderers\":[{\"id\":\"7410\"}],\"tags\":[\"hv_created\"],\"tooltips\":[[\"index\",\"@{index}\"],[\"Working Capital\",\"@{Working_Capital}\"]]},\"id\":\"7373\",\"type\":\"HoverTool\"},{\"attributes\":{\"axis\":{\"id\":\"7322\"},\"grid_line_color\":null,\"ticker\":null},\"id\":\"7325\",\"type\":\"Grid\"},{\"attributes\":{},\"id\":\"7361\",\"type\":\"UnionRenderers\"},{\"attributes\":{\"axis\":{\"id\":\"7383\"},\"grid_line_color\":null,\"ticker\":null},\"id\":\"7386\",\"type\":\"Grid\"},{\"attributes\":{\"text\":\"Working Capital\",\"text_color\":{\"value\":\"black\"},\"text_font_size\":{\"value\":\"12pt\"}},\"id\":\"7375\",\"type\":\"Title\"},{\"attributes\":{\"children\":[{\"id\":\"7299\"},{\"id\":\"7308\"}],\"margin\":[0,0,0,0],\"name\":\"Row13474\"},\"id\":\"7298\",\"type\":\"Row\"},{\"attributes\":{\"end\":5001.2,\"reset_end\":5001.2,\"reset_start\":4998.8,\"start\":4998.8,\"tags\":[[[\"Working Capital\",\"Working Capital\",null]]]},\"id\":\"7372\",\"type\":\"Range1d\"},{\"attributes\":{},\"id\":\"7379\",\"type\":\"LinearScale\"},{\"attributes\":{},\"id\":\"7384\",\"type\":\"BasicTicker\"},{\"attributes\":{\"text\":\"Ownership Distribution\",\"text_color\":{\"value\":\"black\"},\"text_font_size\":{\"value\":\"12pt\"}},\"id\":\"7314\",\"type\":\"Title\"},{\"attributes\":{\"overlay\":{\"id\":\"7396\"}},\"id\":\"7394\",\"type\":\"BoxZoomTool\"},{\"attributes\":{\"below\":[{\"id\":\"7383\"}],\"center\":[{\"id\":\"7386\"},{\"id\":\"7390\"}],\"left\":[{\"id\":\"7387\"}],\"margin\":[5,5,5,5],\"min_border_bottom\":10,\"min_border_left\":10,\"min_border_right\":10,\"min_border_top\":10,\"plot_height\":300,\"plot_width\":700,\"renderers\":[{\"id\":\"7410\"}],\"sizing_mode\":\"fixed\",\"title\":{\"id\":\"7375\"},\"toolbar\":{\"id\":\"7397\"},\"x_range\":{\"id\":\"7371\"},\"x_scale\":{\"id\":\"7379\"},\"y_range\":{\"id\":\"7372\"},\"y_scale\":{\"id\":\"7381\"}},\"id\":\"7374\",\"subtype\":\"Figure\",\"type\":\"Plot\"},{\"attributes\":{\"end\":20,\"format\":\"0[.]00\",\"margin\":[5,10,5,10],\"start\":1,\"title\":\"Years\",\"value\":1,\"value_throttled\":1},\"id\":\"7307\",\"type\":\"Slider\"},{\"attributes\":{},\"id\":\"7392\",\"type\":\"PanTool\"},{\"attributes\":{\"end\":4.0,\"reset_end\":4.0,\"reset_start\":1.0,\"start\":1.0,\"tags\":[[[\"Ranking\",\"Ranking\",null]]]},\"id\":\"7310\",\"type\":\"Range1d\"},{\"attributes\":{},\"id\":\"7381\",\"type\":\"LinearScale\"},{\"attributes\":{\"axis_label\":\"Weeks\",\"bounds\":\"auto\",\"formatter\":{\"id\":\"7413\"},\"major_label_orientation\":\"horizontal\",\"ticker\":{\"id\":\"7384\"}},\"id\":\"7383\",\"type\":\"LinearAxis\"},{\"attributes\":{\"axis\":{\"id\":\"7387\"},\"dimension\":1,\"grid_line_color\":null,\"ticker\":null},\"id\":\"7390\",\"type\":\"Grid\"},{\"attributes\":{\"callback\":null,\"renderers\":[{\"id\":\"7349\"}],\"tags\":[\"hv_created\"],\"tooltips\":[[\"Ranking\",\"@{Ranking}\"],[\"Ownership\",\"@{Ownership}\"]]},\"id\":\"7312\",\"type\":\"HoverTool\"},{\"attributes\":{\"end\":0.250176916465,\"reset_end\":0.250176916465,\"reset_start\":0.24982406858500014,\"start\":0.24982406858500014,\"tags\":[[[\"Ownership\",\"Ownership\",null]]]},\"id\":\"7311\",\"type\":\"Range1d\"},{\"attributes\":{\"children\":[{\"id\":\"7313\"},{\"id\":\"7374\"},{\"id\":\"7432\"}],\"margin\":[0,0,0,0],\"name\":\"Column13472\"},\"id\":\"7309\",\"type\":\"Column\"},{\"attributes\":{\"axis_label\":\"Working Capital\",\"bounds\":\"auto\",\"formatter\":{\"id\":\"7415\"},\"major_label_orientation\":\"horizontal\",\"ticker\":{\"id\":\"7388\"}},\"id\":\"7387\",\"type\":\"LinearAxis\"},{\"attributes\":{},\"id\":\"7320\",\"type\":\"LinearScale\"},{\"attributes\":{},\"id\":\"7388\",\"type\":\"BasicTicker\"},{\"attributes\":{},\"id\":\"7393\",\"type\":\"WheelZoomTool\"},{\"attributes\":{\"axis\":{\"id\":\"7326\"},\"dimension\":1,\"grid_line_color\":null,\"ticker\":null},\"id\":\"7329\",\"type\":\"Grid\"},{\"attributes\":{\"line_alpha\":0.1,\"line_color\":\"#1f77b3\",\"line_width\":2,\"x\":{\"field\":\"index\"},\"y\":{\"field\":\"Working Capital\"}},\"id\":\"7408\",\"type\":\"Line\"},{\"attributes\":{},\"id\":\"7391\",\"type\":\"SaveTool\"},{\"attributes\":{},\"id\":\"7330\",\"type\":\"SaveTool\"},{\"attributes\":{\"end\":10000,\"format\":\"0[.]00\",\"margin\":[5,10,5,10],\"start\":0,\"step\":500,\"title\":\"Weekly Revenue (DAI)\",\"value\":0,\"value_throttled\":0},\"id\":\"7305\",\"type\":\"Slider\"},{\"attributes\":{},\"id\":\"7332\",\"type\":\"WheelZoomTool\"},{\"attributes\":{},\"id\":\"7395\",\"type\":\"ResetTool\"},{\"attributes\":{\"active_drag\":\"auto\",\"active_inspect\":\"auto\",\"active_multi\":null,\"active_scroll\":\"auto\",\"active_tap\":\"auto\",\"tools\":[{\"id\":\"7373\"},{\"id\":\"7391\"},{\"id\":\"7392\"},{\"id\":\"7393\"},{\"id\":\"7394\"},{\"id\":\"7395\"}]},\"id\":\"7397\",\"type\":\"Toolbar\"},{\"attributes\":{\"end\":100,\"format\":\"0[.]00\",\"margin\":[5,10,5,10],\"start\":5,\"title\":\"Number of Members\",\"value\":5,\"value_throttled\":5},\"id\":\"7300\",\"type\":\"Slider\"},{\"attributes\":{\"axis_label\":\"Ownership\",\"bounds\":\"auto\",\"formatter\":{\"id\":\"7354\"},\"major_label_orientation\":\"horizontal\",\"ticker\":{\"id\":\"7327\"}},\"id\":\"7326\",\"type\":\"LinearAxis\"},{\"attributes\":{\"source\":{\"id\":\"7404\"}},\"id\":\"7411\",\"type\":\"CDSView\"},{\"attributes\":{\"margin\":[5,5,5,5],\"name\":\"DataFrame13470\",\"text\":\"&lt;table border=&quot;0&quot; class=&quot;dataframe panel-df&quot;&gt;\\n  &lt;thead&gt;\\n    &lt;tr style=&quot;text-align: right;&quot;&gt;\\n      &lt;th&gt;&lt;/th&gt;\\n      &lt;th&gt;Ownership&lt;/th&gt;\\n      &lt;th&gt;Dividend Percentage&lt;/th&gt;\\n      &lt;th&gt;Average Weekly Payout (DAI)&lt;/th&gt;\\n      &lt;th&gt;Weekly Payouts (DAI)&lt;/th&gt;\\n    &lt;/tr&gt;\\n    &lt;tr&gt;\\n      &lt;th&gt;Ranking&lt;/th&gt;\\n      &lt;th&gt;&lt;/th&gt;\\n      &lt;th&gt;&lt;/th&gt;\\n      &lt;th&gt;&lt;/th&gt;\\n      &lt;th&gt;&lt;/th&gt;\\n    &lt;/tr&gt;\\n  &lt;/thead&gt;\\n  &lt;tbody&gt;\\n    &lt;tr&gt;\\n      &lt;th&gt;1.0&lt;/th&gt;\\n      &lt;td&gt;0.250148&lt;/td&gt;\\n      &lt;td&gt;0.0&lt;/td&gt;\\n      &lt;td&gt;0.0&lt;/td&gt;\\n      &lt;td&gt;0.0&lt;/td&gt;\\n    &lt;/tr&gt;\\n    &lt;tr&gt;\\n      &lt;th&gt;2.0&lt;/th&gt;\\n      &lt;td&gt;0.250049&lt;/td&gt;\\n      &lt;td&gt;0.0&lt;/td&gt;\\n      &lt;td&gt;0.0&lt;/td&gt;\\n      &lt;td&gt;0.0&lt;/td&gt;\\n    &lt;/tr&gt;\\n    &lt;tr&gt;\\n      &lt;th&gt;3.0&lt;/th&gt;\\n      &lt;td&gt;0.249951&lt;/td&gt;\\n      &lt;td&gt;0.0&lt;/td&gt;\\n      &lt;td&gt;0.0&lt;/td&gt;\\n      &lt;td&gt;0.0&lt;/td&gt;\\n    &lt;/tr&gt;\\n    &lt;tr&gt;\\n      &lt;th&gt;4.0&lt;/th&gt;\\n      &lt;td&gt;0.249853&lt;/td&gt;\\n      &lt;td&gt;0.0&lt;/td&gt;\\n      &lt;td&gt;0.0&lt;/td&gt;\\n      &lt;td&gt;0.0&lt;/td&gt;\\n    &lt;/tr&gt;\\n  &lt;/tbody&gt;\\n&lt;/table&gt;\"},\"id\":\"7432\",\"type\":\"panel.models.markup.HTML\"},{\"attributes\":{},\"id\":\"7327\",\"type\":\"BasicTicker\"},{\"attributes\":{\"axis_label\":\"Ranking\",\"bounds\":\"auto\",\"formatter\":{\"id\":\"7352\"},\"major_label_orientation\":\"horizontal\",\"ticker\":{\"id\":\"7323\"}},\"id\":\"7322\",\"type\":\"LinearAxis\"},{\"attributes\":{\"line_alpha\":0.2,\"line_color\":\"#1f77b3\",\"line_width\":2,\"x\":{\"field\":\"index\"},\"y\":{\"field\":\"Working Capital\"}},\"id\":\"7409\",\"type\":\"Line\"},{\"attributes\":{\"data\":{\"Working Capital\":{\"__ndarray__\":\"AAAAAACIs0AAAAAAAIizQAAAAAAAiLNAAAAAAACIs0AAAAAAAIizQAAAAAAAiLNAAAAAAACIs0AAAAAAAIizQAAAAAAAiLNAAAAAAACIs0AAAAAAAIizQAAAAAAAiLNAAAAAAACIs0AAAAAAAIizQAAAAAAAiLNAAAAAAACIs0AAAAAAAIizQAAAAAAAiLNAAAAAAACIs0AAAAAAAIizQAAAAAAAiLNAAAAAAACIs0AAAAAAAIizQAAAAAAAiLNAAAAAAACIs0AAAAAAAIizQAAAAAAAiLNAAAAAAACIs0AAAAAAAIizQAAAAAAAiLNAAAAAAACIs0AAAAAAAIizQAAAAAAAiLNAAAAAAACIs0AAAAAAAIizQAAAAAAAiLNAAAAAAACIs0AAAAAAAIizQAAAAAAAiLNAAAAAAACIs0AAAAAAAIizQAAAAAAAiLNAAAAAAACIs0AAAAAAAIizQAAAAAAAiLNAAAAAAACIs0AAAAAAAIizQAAAAAAAiLNAAAAAAACIs0AAAAAAAIizQAAAAAAAiLNA\",\"dtype\":\"float64\",\"order\":\"little\",\"shape\":[51]},\"Working_Capital\":{\"__ndarray__\":\"AAAAAACIs0AAAAAAAIizQAAAAAAAiLNAAAAAAACIs0AAAAAAAIizQAAAAAAAiLNAAAAAAACIs0AAAAAAAIizQAAAAAAAiLNAAAAAAACIs0AAAAAAAIizQAAAAAAAiLNAAAAAAACIs0AAAAAAAIizQAAAAAAAiLNAAAAAAACIs0AAAAAAAIizQAAAAAAAiLNAAAAAAACIs0AAAAAAAIizQAAAAAAAiLNAAAAAAACIs0AAAAAAAIizQAAAAAAAiLNAAAAAAACIs0AAAAAAAIizQAAAAAAAiLNAAAAAAACIs0AAAAAAAIizQAAAAAAAiLNAAAAAAACIs0AAAAAAAIizQAAAAAAAiLNAAAAAAACIs0AAAAAAAIizQAAAAAAAiLNAAAAAAACIs0AAAAAAAIizQAAAAAAAiLNAAAAAAACIs0AAAAAAAIizQAAAAAAAiLNAAAAAAACIs0AAAAAAAIizQAAAAAAAiLNAAAAAAACIs0AAAAAAAIizQAAAAAAAiLNAAAAAAACIs0AAAAAAAIizQAAAAAAAiLNA\",\"dtype\":\"float64\",\"order\":\"little\",\"shape\":[51]},\"index\":[0,1,2,3,4,5,6,7,8,9,10,11,12,13,14,15,16,17,18,19,20,21,22,23,24,25,26,27,28,29,30,31,32,33,34,35,36,37,38,39,40,41,42,43,44,45,46,47,48,49,50]},\"selected\":{\"id\":\"7405\"},\"selection_policy\":{\"id\":\"7422\"}},\"id\":\"7404\",\"type\":\"ColumnDataSource\"},{\"attributes\":{\"data_source\":{\"id\":\"7404\"},\"glyph\":{\"id\":\"7407\"},\"hover_glyph\":null,\"muted_glyph\":{\"id\":\"7409\"},\"nonselection_glyph\":{\"id\":\"7408\"},\"selection_glyph\":null,\"view\":{\"id\":\"7411\"}},\"id\":\"7410\",\"type\":\"GlyphRenderer\"},{\"attributes\":{\"bottom_units\":\"screen\",\"fill_alpha\":0.5,\"fill_color\":\"lightgrey\",\"left_units\":\"screen\",\"level\":\"overlay\",\"line_alpha\":1.0,\"line_color\":\"black\",\"line_dash\":[4,4],\"line_width\":2,\"right_units\":\"screen\",\"top_units\":\"screen\"},\"id\":\"7335\",\"type\":\"BoxAnnotation\"},{\"attributes\":{\"children\":[{\"id\":\"7300\"},{\"id\":\"7301\"},{\"id\":\"7302\"},{\"id\":\"7303\"},{\"id\":\"7304\"},{\"id\":\"7305\"},{\"id\":\"7306\"},{\"id\":\"7307\"}],\"margin\":[0,0,0,0],\"name\":\"Column13302\"},\"id\":\"7299\",\"type\":\"Column\"},{\"attributes\":{\"line_color\":\"#1f77b3\",\"line_width\":2,\"x\":{\"field\":\"index\"},\"y\":{\"field\":\"Working Capital\"}},\"id\":\"7407\",\"type\":\"Line\"},{\"attributes\":{},\"id\":\"7422\",\"type\":\"UnionRenderers\"}],\"root_ids\":[\"7298\",\"7481\"]},\"title\":\"Bokeh Application\",\"version\":\"2.2.3\"}};\n",
       "    var render_items = [{\"docid\":\"d6c7c690-ee0e-4b4e-a6a6-f99555646e2a\",\"root_ids\":[\"7298\"],\"roots\":{\"7298\":\"34116106-dfd2-49c3-8c33-fd1ade70f409\"}}];\n",
       "    root.Bokeh.embed.embed_items_notebook(docs_json, render_items);\n",
       "  }\n",
       "  if (root.Bokeh !== undefined && root.Bokeh.Panel !== undefined) {\n",
       "    embed_document(root);\n",
       "  } else {\n",
       "    var attempts = 0;\n",
       "    var timer = setInterval(function(root) {\n",
       "      if (root.Bokeh !== undefined && root.Bokeh.Panel !== undefined) {\n",
       "        clearInterval(timer);\n",
       "        embed_document(root);\n",
       "      } else if (document.readyState == \"complete\") {\n",
       "        attempts++;\n",
       "        if (attempts > 100) {\n",
       "          clearInterval(timer);\n",
       "          console.log(\"Bokeh: ERROR: Unable to run BokehJS code because BokehJS library is missing\");\n",
       "        }\n",
       "      }\n",
       "    }, 10, root)\n",
       "  }\n",
       "})(window);</script>"
      ],
      "text/plain": [
       "Row\n",
       "    [0] Column\n",
       "        [0] FloatSlider(end=100, name='Number of Members', start=5, step=1, value=5, value_throttled=5)\n",
       "        [1] FloatSlider(name='Beta Distribution P..., step=0.02, value=0.01, value_throttled=0.01)\n",
       "        [2] FloatSlider(end=1000000, name='Principle Working C..., start=5000, step=5000, value=5000, value_throttled=5000)\n",
       "        [3] FloatSlider(end=5, name='Weekly Membership D..., step=0.05, value_throttled=0)\n",
       "        [4] FloatSlider(end=10, name='Weekly Membership F..., step=1, value_throttled=0)\n",
       "        [5] FloatSlider(end=10000, name='Weekly Revenue (DAI)', step=500, value_throttled=0)\n",
       "        [6] FloatSlider(end=10000, name='Weekly Expenses (DAI)', step=500, value_throttled=0)\n",
       "        [7] FloatSlider(end=20, name='Years', start=1, step=1, value=1, value_throttled=1)\n",
       "    [1] ParamFunction(function)"
      ]
     },
     "execution_count": 7,
     "metadata": {
      "application/vnd.holoviews_exec.v0+json": {
       "id": "7298"
      }
     },
     "output_type": "execute_result"
    }
   ],
   "source": [
    "pn.Row(pn.Column(N,B,P,D,F,R,E, Y), dashboard)"
   ]
  },
  {
   "cell_type": "code",
   "execution_count": 8,
   "metadata": {},
   "outputs": [
    {
     "data": {
      "text/html": [
       "<div>\n",
       "<style scoped>\n",
       "    .dataframe tbody tr th:only-of-type {\n",
       "        vertical-align: middle;\n",
       "    }\n",
       "\n",
       "    .dataframe tbody tr th {\n",
       "        vertical-align: top;\n",
       "    }\n",
       "\n",
       "    .dataframe thead th {\n",
       "        text-align: right;\n",
       "    }\n",
       "</style>\n",
       "<table border=\"1\" class=\"dataframe\">\n",
       "  <thead>\n",
       "    <tr style=\"text-align: right;\">\n",
       "      <th></th>\n",
       "      <th>Ranking</th>\n",
       "      <th>Ownership</th>\n",
       "      <th>Dividend Percentage</th>\n",
       "      <th>Average Weekly Payout (DAI)</th>\n",
       "      <th>Weekly Payouts (DAI)</th>\n",
       "    </tr>\n",
       "  </thead>\n",
       "  <tbody>\n",
       "    <tr>\n",
       "      <th>0</th>\n",
       "      <td>1.0</td>\n",
       "      <td>0.250148</td>\n",
       "      <td>0.0</td>\n",
       "      <td>0.0</td>\n",
       "      <td>0.0</td>\n",
       "    </tr>\n",
       "    <tr>\n",
       "      <th>1</th>\n",
       "      <td>2.0</td>\n",
       "      <td>0.250049</td>\n",
       "      <td>0.0</td>\n",
       "      <td>0.0</td>\n",
       "      <td>0.0</td>\n",
       "    </tr>\n",
       "    <tr>\n",
       "      <th>2</th>\n",
       "      <td>3.0</td>\n",
       "      <td>0.249951</td>\n",
       "      <td>0.0</td>\n",
       "      <td>0.0</td>\n",
       "      <td>0.0</td>\n",
       "    </tr>\n",
       "    <tr>\n",
       "      <th>3</th>\n",
       "      <td>4.0</td>\n",
       "      <td>0.249853</td>\n",
       "      <td>0.0</td>\n",
       "      <td>0.0</td>\n",
       "      <td>0.0</td>\n",
       "    </tr>\n",
       "  </tbody>\n",
       "</table>\n",
       "</div>"
      ],
      "text/plain": [
       "   Ranking  Ownership  Dividend Percentage  Average Weekly Payout (DAI)  \\\n",
       "0      1.0   0.250148                  0.0                          0.0   \n",
       "1      2.0   0.250049                  0.0                          0.0   \n",
       "2      3.0   0.249951                  0.0                          0.0   \n",
       "3      4.0   0.249853                  0.0                          0.0   \n",
       "\n",
       "   Weekly Payouts (DAI)  \n",
       "0                   0.0  \n",
       "1                   0.0  \n",
       "2                   0.0  \n",
       "3                   0.0  "
      ]
     },
     "execution_count": 8,
     "metadata": {},
     "output_type": "execute_result"
    }
   ],
   "source": [
    "distribution = beta_dist(B.value, N.value)\n",
    "distribution['Dividend Percentage'] = distribution['Ownership'] * D.value/100\n",
    "capital = capital_projection(N.value, P.value, D.value, F.value, R.value, E.value, Y.value)\n",
    "distribution[\"Average Weekly Payout (DAI)\"] = distribution['Dividend Percentage'] * capital['Working Capital'].mean()\n",
    "distribution[\"Weekly Payouts (DAI)\"] = distribution['Dividend Percentage'] * capital['Working Capital']\n",
    "distribution"
   ]
  },
  {
   "cell_type": "code",
   "execution_count": null,
   "metadata": {},
   "outputs": [],
   "source": []
  },
  {
   "cell_type": "code",
   "execution_count": null,
   "metadata": {},
   "outputs": [],
   "source": []
  }
 ],
 "metadata": {
  "kernelspec": {
   "display_name": "Python 3",
   "language": "python",
   "name": "python3"
  },
  "language_info": {
   "codemirror_mode": {
    "name": "ipython",
    "version": 3
   },
   "file_extension": ".py",
   "mimetype": "text/x-python",
   "name": "python",
   "nbconvert_exporter": "python",
   "pygments_lexer": "ipython3",
   "version": "3.8.2"
  }
 },
 "nbformat": 4,
 "nbformat_minor": 4
}
