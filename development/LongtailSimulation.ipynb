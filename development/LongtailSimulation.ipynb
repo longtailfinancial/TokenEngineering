{
 "cells": [
  {
   "cell_type": "code",
   "execution_count": 1,
   "id": "a5cd0589-a3e4-4280-8455-5764155be793",
   "metadata": {},
   "outputs": [],
   "source": [
    "import random as rand\n",
    "import numpy as np "
   ]
  },
  {
   "cell_type": "code",
   "execution_count": 2,
   "id": "5e929646-03a8-4c6f-87ac-9a24dacd0888",
   "metadata": {},
   "outputs": [],
   "source": [
    "# # # # # # # # # # # # # # # # # # # # # # # # # # # # # # # # # # # # # # # # # # # # # # # # \n",
    "# List of all the state variables in the system and their initial values\n",
    "genesis_states = {\n",
    "    'reserve': 7473, # Current common pool balance\n",
    "    'circulation': 18765, # Total honey supply minus common pool balance (26238 - 7473)\n",
    "    'size': 100000, # Total market size in terms of fiat inflows per month  \n",
    "    'saturation': 0.0, # Percent of market captured by 1hive\n",
    "    'production': 0.0, # Production state accounting for outflows and upkeep\n",
    "    'utility': 0.0, # representing diminishing marginal returns on production\n",
    "    'price': 10, # modeled as a random walk biased towards a target price based on size, saturation, circulation, and valuation ratio parameter. \n",
    "    'target_price':10, # Tracks the implied valuation based on our assumptions and influeces the stochastic spot price. \n",
    "    'netflow': 0.0,\n",
    "    'adjustment': 0.0\n",
    "}\n",
    "# # # # # # # # # # # # # # # # # # # # # # # # # # # # # # # # # # # # # # # # # # # # # # # # "
   ]
  },
  {
   "cell_type": "code",
   "execution_count": null,
   "id": "7dd020e3-8364-4c1e-abda-ba4bae8e8c81",
   "metadata": {},
   "outputs": [],
   "source": []
  }
 ],
 "metadata": {
  "kernelspec": {
   "display_name": "Python 3",
   "language": "python",
   "name": "python3"
  },
  "language_info": {
   "codemirror_mode": {
    "name": "ipython",
    "version": 3
   },
   "file_extension": ".py",
   "mimetype": "text/x-python",
   "name": "python",
   "nbconvert_exporter": "python",
   "pygments_lexer": "ipython3",
   "version": "3.8.8"
  }
 },
 "nbformat": 4,
 "nbformat_minor": 5
}
